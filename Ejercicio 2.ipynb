{
 "cells": [
  {
   "cell_type": "markdown",
   "metadata": {},
   "source": [
    "$$\\mathbf{\\text{Tarea 1. Seminario Machine Learning Estadística 1.}}$$\n",
    "\n",
    "$\\text{Adame Serrano Eduardo}$\n",
    "\n",
    "$\\text{No.cta. 316149350}$\n",
    "\n",
    "$\\text{Correo. adamesaurio@ciencias.unam.mx}$\n",
    "\n",
    " $\\mathbf{\\text{Ejercicio 2.}}$\n",
    " \n",
    "De la base `data_schools` sacar/obtener el error estándar con Bootstrap de las variables de la base. Recordemos que tienen que simular $N$ Muestras Boostrap con tamaño $n$. Luego, el otro ejercicio es que lo hagan con $n-1$.\n",
    "\n",
    "Además grafique los histogramas de las correlacionesy el histograma sobre una muestra bostrap considerando la muestra completa."
   ]
  },
  {
   "cell_type": "markdown",
   "metadata": {},
   "source": [
    "$\\mathbf{\\text{Solución.}}$"
   ]
  },
  {
   "cell_type": "code",
   "execution_count": 2,
   "metadata": {},
   "outputs": [],
   "source": [
    "#import sqlite3\n",
    "import sqldf\n",
    "import pandas as pd\n",
    "from pylab import*\n",
    "import numpy as np\n",
    "import scipy.stats \n",
    "from scipy.special import gamma\n",
    "import seaborn as sns\n",
    "from scipy.stats import beta\n",
    "from scipy.stats import spearmanr\n",
    "import pandas as pd"
   ]
  },
  {
   "cell_type": "code",
   "execution_count": 26,
   "metadata": {},
   "outputs": [
    {
     "data": {
      "text/html": [
       "<div>\n",
       "<style scoped>\n",
       "    .dataframe tbody tr th:only-of-type {\n",
       "        vertical-align: middle;\n",
       "    }\n",
       "\n",
       "    .dataframe tbody tr th {\n",
       "        vertical-align: top;\n",
       "    }\n",
       "\n",
       "    .dataframe thead th {\n",
       "        text-align: right;\n",
       "    }\n",
       "</style>\n",
       "<table border=\"1\" class=\"dataframe\">\n",
       "  <thead>\n",
       "    <tr style=\"text-align: right;\">\n",
       "      <th></th>\n",
       "      <th>escuela</th>\n",
       "      <th>LSAT</th>\n",
       "      <th>GPA</th>\n",
       "    </tr>\n",
       "  </thead>\n",
       "  <tbody>\n",
       "    <tr>\n",
       "      <th>0</th>\n",
       "      <td>1</td>\n",
       "      <td>622</td>\n",
       "      <td>3.23</td>\n",
       "    </tr>\n",
       "    <tr>\n",
       "      <th>1</th>\n",
       "      <td>2</td>\n",
       "      <td>542</td>\n",
       "      <td>2.83</td>\n",
       "    </tr>\n",
       "    <tr>\n",
       "      <th>2</th>\n",
       "      <td>3</td>\n",
       "      <td>579</td>\n",
       "      <td>3.24</td>\n",
       "    </tr>\n",
       "    <tr>\n",
       "      <th>3</th>\n",
       "      <td>4</td>\n",
       "      <td>653</td>\n",
       "      <td>3.12</td>\n",
       "    </tr>\n",
       "    <tr>\n",
       "      <th>4</th>\n",
       "      <td>5</td>\n",
       "      <td>606</td>\n",
       "      <td>3.09</td>\n",
       "    </tr>\n",
       "    <tr>\n",
       "      <th>...</th>\n",
       "      <td>...</td>\n",
       "      <td>...</td>\n",
       "      <td>...</td>\n",
       "    </tr>\n",
       "    <tr>\n",
       "      <th>77</th>\n",
       "      <td>78</td>\n",
       "      <td>590</td>\n",
       "      <td>3.15</td>\n",
       "    </tr>\n",
       "    <tr>\n",
       "      <th>78</th>\n",
       "      <td>79</td>\n",
       "      <td>558</td>\n",
       "      <td>2.81</td>\n",
       "    </tr>\n",
       "    <tr>\n",
       "      <th>79</th>\n",
       "      <td>80</td>\n",
       "      <td>611</td>\n",
       "      <td>3.16</td>\n",
       "    </tr>\n",
       "    <tr>\n",
       "      <th>80</th>\n",
       "      <td>81</td>\n",
       "      <td>564</td>\n",
       "      <td>3.02</td>\n",
       "    </tr>\n",
       "    <tr>\n",
       "      <th>81</th>\n",
       "      <td>82</td>\n",
       "      <td>575</td>\n",
       "      <td>2.74</td>\n",
       "    </tr>\n",
       "  </tbody>\n",
       "</table>\n",
       "<p>82 rows × 3 columns</p>\n",
       "</div>"
      ],
      "text/plain": [
       "    escuela  LSAT   GPA\n",
       "0         1   622  3.23\n",
       "1         2   542  2.83\n",
       "2         3   579  3.24\n",
       "3         4   653  3.12\n",
       "4         5   606  3.09\n",
       "..      ...   ...   ...\n",
       "77       78   590  3.15\n",
       "78       79   558  2.81\n",
       "79       80   611  3.16\n",
       "80       81   564  3.02\n",
       "81       82   575  2.74\n",
       "\n",
       "[82 rows x 3 columns]"
      ]
     },
     "execution_count": 26,
     "metadata": {},
     "output_type": "execute_result"
    }
   ],
   "source": [
    "ruta=\"C:/Users/leon/Documents/Libros/7mo/Seminario Estadística 1/Tareas/Tarea 1. Seminario Machine Learning/\"\n",
    "bd=\"data_schools.xlsx\"\n",
    "bd_escuelas=pd.read_excel(ruta+bd)\n",
    "bd_escuelas"
   ]
  },
  {
   "cell_type": "code",
   "execution_count": 27,
   "metadata": {},
   "outputs": [
    {
     "name": "stdout",
     "output_type": "stream",
     "text": [
      "    escuela  LSAT   GPA  f_seleccion\n",
      "37       38   606  3.20            1\n",
      "51       52   580  3.07            1\n",
      "75       76   608  3.16            1\n",
      "5         6   576  3.39            1\n",
      "73       74   565  3.15            1\n",
      "21       22   614  3.19            1\n",
      "57       58   631  3.21            1\n",
      "10       11   558  3.11            1\n",
      "35       36   572  2.88            1\n",
      "39       40   535  2.98            1\n",
      "47       48   562  3.19            1\n",
      "68       69   598  3.20            1\n",
      "61       62   637  3.33            1\n",
      "76       77   595  3.19            1\n",
      "36       37   615  3.37            1\n"
     ]
    }
   ],
   "source": [
    "#Seleccionamos aleatoriamente 15 escuelas\n",
    "escuelas_random=bd_escuelas.sample(n=15,random_state=9998)#[[\"escuela\"]]\n",
    "escuelas_random[\"f_seleccion\"]=1\n",
    "print(escuelas_random) "
   ]
  },
  {
   "cell_type": "markdown",
   "metadata": {},
   "source": [
    "La variable `f_seleccion` será un identificador para las escuelas seleccionadas aleatoriamente de las que no fueron seleccionadas "
   ]
  },
  {
   "cell_type": "code",
   "execution_count": 28,
   "metadata": {},
   "outputs": [
    {
     "data": {
      "text/html": [
       "<div>\n",
       "<style scoped>\n",
       "    .dataframe tbody tr th:only-of-type {\n",
       "        vertical-align: middle;\n",
       "    }\n",
       "\n",
       "    .dataframe tbody tr th {\n",
       "        vertical-align: top;\n",
       "    }\n",
       "\n",
       "    .dataframe thead th {\n",
       "        text-align: right;\n",
       "    }\n",
       "</style>\n",
       "<table border=\"1\" class=\"dataframe\">\n",
       "  <thead>\n",
       "    <tr style=\"text-align: right;\">\n",
       "      <th></th>\n",
       "      <th>escuela</th>\n",
       "      <th>LSAT</th>\n",
       "      <th>GPA</th>\n",
       "      <th>f_seleccion</th>\n",
       "    </tr>\n",
       "  </thead>\n",
       "  <tbody>\n",
       "    <tr>\n",
       "      <th>0</th>\n",
       "      <td>1</td>\n",
       "      <td>622</td>\n",
       "      <td>3.23</td>\n",
       "      <td>0</td>\n",
       "    </tr>\n",
       "    <tr>\n",
       "      <th>1</th>\n",
       "      <td>2</td>\n",
       "      <td>542</td>\n",
       "      <td>2.83</td>\n",
       "      <td>0</td>\n",
       "    </tr>\n",
       "    <tr>\n",
       "      <th>2</th>\n",
       "      <td>3</td>\n",
       "      <td>579</td>\n",
       "      <td>3.24</td>\n",
       "      <td>0</td>\n",
       "    </tr>\n",
       "    <tr>\n",
       "      <th>3</th>\n",
       "      <td>4</td>\n",
       "      <td>653</td>\n",
       "      <td>3.12</td>\n",
       "      <td>0</td>\n",
       "    </tr>\n",
       "    <tr>\n",
       "      <th>4</th>\n",
       "      <td>5</td>\n",
       "      <td>606</td>\n",
       "      <td>3.09</td>\n",
       "      <td>0</td>\n",
       "    </tr>\n",
       "    <tr>\n",
       "      <th>...</th>\n",
       "      <td>...</td>\n",
       "      <td>...</td>\n",
       "      <td>...</td>\n",
       "      <td>...</td>\n",
       "    </tr>\n",
       "    <tr>\n",
       "      <th>77</th>\n",
       "      <td>78</td>\n",
       "      <td>590</td>\n",
       "      <td>3.15</td>\n",
       "      <td>0</td>\n",
       "    </tr>\n",
       "    <tr>\n",
       "      <th>78</th>\n",
       "      <td>79</td>\n",
       "      <td>558</td>\n",
       "      <td>2.81</td>\n",
       "      <td>0</td>\n",
       "    </tr>\n",
       "    <tr>\n",
       "      <th>79</th>\n",
       "      <td>80</td>\n",
       "      <td>611</td>\n",
       "      <td>3.16</td>\n",
       "      <td>0</td>\n",
       "    </tr>\n",
       "    <tr>\n",
       "      <th>80</th>\n",
       "      <td>81</td>\n",
       "      <td>564</td>\n",
       "      <td>3.02</td>\n",
       "      <td>0</td>\n",
       "    </tr>\n",
       "    <tr>\n",
       "      <th>81</th>\n",
       "      <td>82</td>\n",
       "      <td>575</td>\n",
       "      <td>2.74</td>\n",
       "      <td>0</td>\n",
       "    </tr>\n",
       "  </tbody>\n",
       "</table>\n",
       "<p>82 rows × 4 columns</p>\n",
       "</div>"
      ],
      "text/plain": [
       "    escuela  LSAT   GPA  f_seleccion\n",
       "0         1   622  3.23            0\n",
       "1         2   542  2.83            0\n",
       "2         3   579  3.24            0\n",
       "3         4   653  3.12            0\n",
       "4         5   606  3.09            0\n",
       "..      ...   ...   ...          ...\n",
       "77       78   590  3.15            0\n",
       "78       79   558  2.81            0\n",
       "79       80   611  3.16            0\n",
       "80       81   564  3.02            0\n",
       "81       82   575  2.74            0\n",
       "\n",
       "[82 rows x 4 columns]"
      ]
     },
     "execution_count": 28,
     "metadata": {},
     "output_type": "execute_result"
    }
   ],
   "source": [
    "bd_escuelas=pd.merge(bd_escuelas, escuelas_random, how=\"left\", on=[\"escuela\", \"LSAT\" , \"GPA\"])\n",
    "bd_escuelas[\"f_seleccion\"]=bd_escuelas[\"f_seleccion\"].fillna(0)\n",
    "bd_escuelas[\"f_seleccion\"]=bd_escuelas[\"f_seleccion\"].astype(int)\n",
    "bd_escuelas"
   ]
  },
  {
   "cell_type": "markdown",
   "metadata": {},
   "source": [
    "En este caso la variable `f_seleccion` será un identificador para las escuelas que no fueron seleccionadas."
   ]
  },
  {
   "cell_type": "code",
   "execution_count": 30,
   "metadata": {},
   "outputs": [
    {
     "data": {
      "image/png": "[encoded data removed]",
      "text/plain": [
       "<Figure size 864x432 with 1 Axes>"
      ]
     },
     "metadata": {
      "needs_background": "light"
     },
     "output_type": "display_data"
    }
   ],
   "source": [
    "fig, ax = plt.subplots(figsize=(12,6))\n",
    "plot(bd_escuelas[bd_escuelas[\"f_seleccion\"]==0].LSAT, \n",
    "         bd_escuelas[bd_escuelas[\"f_seleccion\"]==0].GPA, 'o', color='blue',markerfacecolor='white')\n",
    "plot(bd_escuelas[bd_escuelas[\"f_seleccion\"]==1].LSAT, \n",
    "         bd_escuelas[bd_escuelas[\"f_seleccion\"]==1].GPA, 'o', color='green')\n",
    "fig.title = \"Dispersión\"\n",
    "\n",
    "xlabel(\"LSAT\",size=14)\n",
    "ylabel(\"GPA\",size=14)\n",
    "xticks(fontsize=15)\n",
    "yticks(fontsize=15)\n",
    "show()"
   ]
  },
  {
   "cell_type": "code",
   "execution_count": 303,
   "metadata": {},
   "outputs": [
    {
     "name": "stdout",
     "output_type": "stream",
     "text": [
      "Coeficiente de correlación de Spearman para los datos aleatorios: 0.648\n"
     ]
    }
   ],
   "source": [
    "corr1, _ = spearmanr(bd_escuelas[bd_escuelas[\"f_seleccion\"]==1].LSAT, bd_escuelas[bd_escuelas[\"f_seleccion\"]==1].GPA)\n",
    "print('Coeficiente de correlación de Spearman para los datos aleatorios: %.3f' % corr1)"
   ]
  },
  {
   "cell_type": "code",
   "execution_count": 304,
   "metadata": {},
   "outputs": [
    {
     "name": "stdout",
     "output_type": "stream",
     "text": [
      "Coeficiente de correlación de Spearman para los datos en general: 0.753\n"
     ]
    }
   ],
   "source": [
    "corr, _ = spearmanr(bd_escuelas.LSAT, bd_escuelas.GPA)\n",
    "print('Coeficiente de correlación de Spearman para los datos en general: %.3f' % corr)"
   ]
  },
  {
   "cell_type": "markdown",
   "metadata": {},
   "source": [
    "Como sabe, el error estándar = desviación estándar / raíz cuadrada del número total de muestras "
   ]
  },
  {
   "cell_type": "code",
   "execution_count": 305,
   "metadata": {},
   "outputs": [],
   "source": [
    "def funcion_corr(N,m,bd,var1,var2,remp): #N: número de muestras, m: tamaño de las muestras, bd: Base en cuestión, var1: Variable 1, var2: Variable 2, remp: Permitir o no permitir el muestreo de la misma fila más de una vez.\n",
    "    corr_=np.array([]) # vacío\n",
    "    for i in range(0,N):\n",
    "        bd_muestras=bd.sample(n=m,replace=remp)\n",
    "        corr,_=spearmanr(bd_muestras[var1],bd_muestras[var2])\n",
    "        corr_ = np.append(corr_,corr)\n",
    "    return corr_    "
   ]
  },
  {
   "cell_type": "code",
   "execution_count": 306,
   "metadata": {},
   "outputs": [],
   "source": [
    "vector_corr_n=funcion_corr(100,15,bd_escuelas,'LSAT','GPA',False)"
   ]
  },
  {
   "cell_type": "markdown",
   "metadata": {},
   "source": [
    "Lo anterior nos genera un vector de correlaciones de 100 muestras para un tamaño por muestra de 15 observaciones. "
   ]
  },
  {
   "cell_type": "code",
   "execution_count": 307,
   "metadata": {},
   "outputs": [
    {
     "data": {
      "text/plain": [
       "array([0.83646146, 0.90437927, 0.66786275, 0.40714286, 0.77926751,\n",
       "       0.85      , 0.86135957, 0.85867621, 0.7484336 , 0.88829347,\n",
       "       0.58908001, 0.79248658, 0.49821109, 0.73928571, 0.69705122,\n",
       "       0.65443178, 0.83288684, 0.83005367, 0.67054637, 0.83214286,\n",
       "       0.78571429, 0.71428571, 0.61840954, 0.89525551, 0.56836484,\n",
       "       0.79248785, 0.72142857, 0.925     , 0.44305378, 0.70725412,\n",
       "       0.73928571, 0.84897264, 0.55835189, 0.7802769 , 0.34619182,\n",
       "       0.8470483 , 0.77569289, 0.88571429, 0.78245582, 0.67084186,\n",
       "       0.83467415, 0.81989379, 0.58139535, 0.78571429, 0.64700651,\n",
       "       0.65890805, 0.75424516, 0.85509976, 0.4686941 , 0.6624912 ,\n",
       "       0.55874462, 0.82975044, 0.60411105, 0.87713322, 0.70008981,\n",
       "       0.77280982, 0.58802526, 0.84285714, 0.91331582, 0.74642857,\n",
       "       0.89723003, 0.81003584, 0.8436107 , 0.69285714, 0.67204301,\n",
       "       0.80714286, 0.75559565, 0.73792487, 0.88093142, 0.71849895,\n",
       "       0.76386527, 0.81428571, 0.81680104, 0.53798055, 0.70304114,\n",
       "       0.74865832, 0.64901675, 0.77033096, 0.80322132, 0.61414528,\n",
       "       0.75470039, 0.72564819, 0.51162873, 0.80035842, 0.50447308,\n",
       "       0.62969689, 0.53667349, 0.79535331, 0.87298887, 0.75760286,\n",
       "       0.708409  , 0.7967774 , 0.64726973, 0.64285714, 0.90437927,\n",
       "       0.85331085, 0.73410952, 0.71645796, 0.81362138, 0.79892793])"
      ]
     },
     "execution_count": 307,
     "metadata": {},
     "output_type": "execute_result"
    }
   ],
   "source": [
    "vector_corr_n"
   ]
  },
  {
   "cell_type": "markdown",
   "metadata": {},
   "source": [
    "$\\mathbf{\\text{Error estándar de las correlaciones para los datos generales}}$"
   ]
  },
  {
   "cell_type": "markdown",
   "metadata": {},
   "source": [
    "Calculando la desviación estandar del vector de correlaciones `vector_corr` se tiene lo siguiente "
   ]
  },
  {
   "cell_type": "code",
   "execution_count": 308,
   "metadata": {},
   "outputs": [
    {
     "data": {
      "text/plain": [
       "0.12181863931941335"
      ]
     },
     "execution_count": 308,
     "metadata": {},
     "output_type": "execute_result"
    }
   ],
   "source": [
    "desviacion_n = np.std(vector_corr)\n",
    "desviacion_n"
   ]
  },
  {
   "cell_type": "markdown",
   "metadata": {},
   "source": [
    "Ahora calculemos su error estándar dado por "
   ]
  },
  {
   "cell_type": "code",
   "execution_count": 309,
   "metadata": {},
   "outputs": [
    {
     "data": {
      "text/plain": [
       "0.012181863931941334"
      ]
     },
     "execution_count": 309,
     "metadata": {},
     "output_type": "execute_result"
    }
   ],
   "source": [
    "errors_n = desviacion_n / np.sqrt(100)\n",
    "errors_n"
   ]
  },
  {
   "cell_type": "markdown",
   "metadata": {},
   "source": [
    "$\\mathbf{\\text{Mostrar para que $n < 82$ la precisión de la correlación del muestro se parece con respecto a la correlación de la muestra total}}$"
   ]
  },
  {
   "cell_type": "markdown",
   "metadata": {},
   "source": [
    "Recuerde usted que bajo el término genérico de *ley de los grandes números* se engloban varios teoremas que describen el comportamiento del promedio de una sucesión de variables aleatorias conforme aumenta su número de ensayos. Por tanto, generamos un vector de correlaciones de $N=100$ muestras para un tamaño por muestra de $m=55$ observaciones."
   ]
  },
  {
   "cell_type": "code",
   "execution_count": 310,
   "metadata": {},
   "outputs": [],
   "source": [
    "vector_corr_n=funcion_corr(100,55,bd_escuelas,'LSAT','GPA',False)"
   ]
  },
  {
   "cell_type": "markdown",
   "metadata": {},
   "source": [
    "Y simplemente calculamos su media la cual deberá ser aproximadamente 0.753"
   ]
  },
  {
   "cell_type": "code",
   "execution_count": 311,
   "metadata": {},
   "outputs": [
    {
     "data": {
      "text/plain": [
       "0.7522044454795632"
      ]
     },
     "execution_count": 311,
     "metadata": {},
     "output_type": "execute_result"
    }
   ],
   "source": [
    "np.mean(vector_corr_n)"
   ]
  },
  {
   "cell_type": "markdown",
   "metadata": {},
   "source": [
    "Es decir, que para $n \\approx 55$ la precisión de la correlación de los muestreo se parece a la correlación de la muestra total."
   ]
  },
  {
   "cell_type": "markdown",
   "metadata": {},
   "source": [
    "$\\textbf{Grafique los histogramas de las correlaciones}$\n"
   ]
  },
  {
   "cell_type": "markdown",
   "metadata": {},
   "source": [
    "Histograma para las correlaciones de la primer muestra aleatoria tomada de la base de datos con el identificador 1"
   ]
  },
  {
   "cell_type": "code",
   "execution_count": 347,
   "metadata": {},
   "outputs": [],
   "source": [
    "def hist_corr(corr_,corr1):\n",
    "    fig, ax = plt.subplots(figsize=(9,6))\n",
    "    hist(corr_,bins=50,alpha=0.5,edgecolor=\"white\",label=\"Corr Boostrap\")\n",
    "    axvline(x=corr1,color='red', linestyle='--',linewidth=3,label=\"Correlacion sin boostrap\")\n",
    "    axvline(x=np.mean(corr_),color='cyan', linestyle='--',linewidth=3,label=\"correlación Boostrap$\")\n",
    "\n",
    "    axvline(percentile(corr_,2.5),color=\"blue\",linestyle=\"--\",linewidth=2)                                                                                                                                                    \n",
    "    axvline(percentile(corr_,97.5),color=\"blue\",linestyle=\"--\",linewidth=2) \n",
    "    show()\n",
    "    print(\"Correlación sin Bootstrap de color rojo:\", corr1)\n",
    "    print(\"Promedio de la correlación de las muestras Bootstrap en color cyan:\", np.mean(corr_))\n",
    "    print(\"( Percentil 1: \", percentile(corr_,2.5),\", Percentil 3: \",percentile(corr_,97.5),\")\")"
   ]
  },
  {
   "cell_type": "code",
   "execution_count": 343,
   "metadata": {},
   "outputs": [
    {
     "data": {
      "image/png": "[encoded data removed]",
      "text/plain": [
       "<Figure size 648x432 with 1 Axes>"
      ]
     },
     "metadata": {
      "needs_background": "light"
     },
     "output_type": "display_data"
    },
    {
     "name": "stdout",
     "output_type": "stream",
     "text": [
      "Correlación sin Bootstrap de color rojo: 0.647540143009093\n",
      "Promedio de la Correlación de las muestras Bootstrap en color cyan: 0.7522044454795632\n",
      "( Percentil 1:  0.679517981406021 , Percentil 3:  0.8134830609516942 )\n"
     ]
    }
   ],
   "source": [
    "hist_corr(vector_corr_n,corr1)"
   ]
  },
  {
   "cell_type": "markdown",
   "metadata": {},
   "source": [
    "Histograma para las correlaciones de las variables de la base general"
   ]
  },
  {
   "cell_type": "code",
   "execution_count": 344,
   "metadata": {},
   "outputs": [
    {
     "data": {
      "image/png": "[encoded data removed]",
      "text/plain": [
       "<Figure size 648x432 with 1 Axes>"
      ]
     },
     "metadata": {
      "needs_background": "light"
     },
     "output_type": "display_data"
    },
    {
     "name": "stdout",
     "output_type": "stream",
     "text": [
      "Correlación sin Bootstrap de color rojo: 0.7526621356232132\n",
      "Promedio de la Correlación de las muestras Bootstrap en color cyan: 0.7522044454795632\n",
      "( Percentil 1:  0.679517981406021 , Percentil 3:  0.8134830609516942 )\n"
     ]
    }
   ],
   "source": [
    "hist_corr(vector_corr_n,corr)"
   ]
  },
  {
   "cell_type": "markdown",
   "metadata": {},
   "source": [
    "$\\textbf{Grafique el  histograma pero sobre una muestra bostrap considerando la muestra completa}$"
   ]
  },
  {
   "cell_type": "markdown",
   "metadata": {},
   "source": [
    "Generamos la muestra aleatoria de tamaño  $n$ = `len(bd_escuelas)`.\n"
   ]
  },
  {
   "cell_type": "code",
   "execution_count": 345,
   "metadata": {},
   "outputs": [
    {
     "data": {
      "text/plain": [
       "array([0.75266214])"
      ]
     },
     "execution_count": 345,
     "metadata": {},
     "output_type": "execute_result"
    }
   ],
   "source": [
    "vector_corr_completa=funcion_corr(1,len(bd_escuelas),bd_escuelas,'LSAT','GPA',False)\n",
    "vector_corr_completa"
   ]
  },
  {
   "cell_type": "markdown",
   "metadata": {},
   "source": [
    "Finalmente generamos el histograma solicitado"
   ]
  },
  {
   "cell_type": "code",
   "execution_count": 348,
   "metadata": {},
   "outputs": [
    {
     "data": {
      "image/png": "[encoded data removed]",
      "text/plain": [
       "<Figure size 648x432 with 1 Axes>"
      ]
     },
     "metadata": {
      "needs_background": "light"
     },
     "output_type": "display_data"
    },
    {
     "name": "stdout",
     "output_type": "stream",
     "text": [
      "Correlación sin Bootstrap de color rojo: 0.7526621356232132\n",
      "Promedio de la correlación de las muestras Bootstrap en color cyan: 0.7526621356232132\n",
      "( Percentil 1:  0.7526621356232132 , Percentil 3:  0.7526621356232132 )\n"
     ]
    }
   ],
   "source": [
    "hist_corr(vector_corr_completa,corr)"
   ]
  },
  {
   "cell_type": "markdown",
   "metadata": {},
   "source": [
    "$\\blacklozenge$"
   ]
  }
 ],
 "metadata": {
  "kernelspec": {
   "display_name": "Python 3",
   "language": "python",
   "name": "python3"
  },
  "language_info": {
   "codemirror_mode": {
    "name": "ipython",
    "version": 3
   },
   "file_extension": ".py",
   "mimetype": "text/x-python",
   "name": "python",
   "nbconvert_exporter": "python",
   "pygments_lexer": "ipython3",
   "version": "3.8.3"
  }
 },
 "nbformat": 4,
 "nbformat_minor": 4
}
